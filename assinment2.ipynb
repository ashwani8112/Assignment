{
 "cells": [
  {
   "cell_type": "markdown",
   "id": "c4332a53-db3f-4bda-9f7e-564ec832918a",
   "metadata": {},
   "source": [
    "Q1. Which keyword is used to create a function? Create a function to return a list of odd numbers in the range of 1 to 25."
   ]
  },
  {
   "cell_type": "code",
   "execution_count": 102,
   "id": "f614c417-716d-432d-99f8-5472b21107e4",
   "metadata": {},
   "outputs": [],
   "source": [
    "#def keyword used to creat a funtion "
   ]
  },
  {
   "cell_type": "code",
   "execution_count": 103,
   "id": "96cc52c5-b864-4f7a-8889-77c9475a0da0",
   "metadata": {},
   "outputs": [],
   "source": [
    "def odd_number(b):\n",
    " l=list(range(1,b,2))\n",
    " return(l)\n"
   ]
  },
  {
   "cell_type": "code",
   "execution_count": 104,
   "id": "5ee1f099-f9d3-44f1-9b4a-fa23a43508aa",
   "metadata": {},
   "outputs": [
    {
     "data": {
      "text/plain": [
       "[1, 3, 5, 7, 9, 11, 13, 15, 17, 19]"
      ]
     },
     "execution_count": 104,
     "metadata": {},
     "output_type": "execute_result"
    }
   ],
   "source": [
    "odd_number(20)"
   ]
  },
  {
   "cell_type": "markdown",
   "id": "67b0166c-cf0a-40e8-a58a-37129051fbb1",
   "metadata": {},
   "source": [
    "Q2. Why *args and **kwargs is used in some functions? Create a function each for *args and **kwargs to demonstrate their use."
   ]
  },
  {
   "cell_type": "code",
   "execution_count": 105,
   "id": "acd65ca5-07c7-41e9-9150-904bc86f96ba",
   "metadata": {},
   "outputs": [],
   "source": [
    "#*args is used when we want to pass a variable number of positional arguments to a function. It allows us to pass any number of arguments to a function, and these arguments are collected into a tuple"
   ]
  },
  {
   "cell_type": "code",
   "execution_count": 106,
   "id": "150d2f1b-28d1-4b9a-ae83-cf7b9904bce1",
   "metadata": {},
   "outputs": [],
   "source": [
    "def args1(*args):\n",
    "    return args"
   ]
  },
  {
   "cell_type": "code",
   "execution_count": 107,
   "id": "7f6062d9-9822-42aa-8488-b9fdae2c8f5a",
   "metadata": {},
   "outputs": [
    {
     "data": {
      "text/plain": [
       "(1,)"
      ]
     },
     "execution_count": 107,
     "metadata": {},
     "output_type": "execute_result"
    }
   ],
   "source": [
    "args1(1)"
   ]
  },
  {
   "cell_type": "markdown",
   "id": "733c9c3b-f5f8-4b2c-8a9f-2a3f0131a4dd",
   "metadata": {},
   "source": [
    "secon method"
   ]
  },
  {
   "cell_type": "code",
   "execution_count": 109,
   "id": "6a8ecbcb-5427-40fd-87d6-0a0051beee6d",
   "metadata": {},
   "outputs": [],
   "source": [
    "def args (a):\n",
    "     l=[]\n",
    "     l.append(a)\n",
    "     return (tuple(l))"
   ]
  },
  {
   "cell_type": "code",
   "execution_count": 110,
   "id": "f389cbe6-07b8-4ad1-aa50-991e7b44a8e3",
   "metadata": {},
   "outputs": [
    {
     "data": {
      "text/plain": [
       "(1,)"
      ]
     },
     "execution_count": 110,
     "metadata": {},
     "output_type": "execute_result"
    }
   ],
   "source": [
    "args(1)"
   ]
  },
  {
   "cell_type": "code",
   "execution_count": 111,
   "id": "192751fe-a7f9-49bf-a645-68b069318d80",
   "metadata": {},
   "outputs": [],
   "source": [
    "#**kwargs is used when we want to pass a variable number of keyword arguments to a function. It allows us to pass any number of keyword arguments to a function, and these arguments are collected into a dictionary"
   ]
  },
  {
   "cell_type": "code",
   "execution_count": 112,
   "id": "44fbc8da-f990-41a5-964f-184fda5762d8",
   "metadata": {},
   "outputs": [],
   "source": [
    "def kwarge(**kwargs):\n",
    "    return kwargs"
   ]
  },
  {
   "cell_type": "code",
   "execution_count": 113,
   "id": "7ae7d7b7-4da7-432d-bcf9-e5ee8c18861e",
   "metadata": {},
   "outputs": [
    {
     "data": {
      "text/plain": [
       "{}"
      ]
     },
     "execution_count": 113,
     "metadata": {},
     "output_type": "execute_result"
    }
   ],
   "source": [
    "kwarge()"
   ]
  },
  {
   "cell_type": "markdown",
   "id": "84b2344c-9758-47fb-9c99-86f3b98a0e8e",
   "metadata": {},
   "source": [
    "Q3. What is an iterator in python? Name the method used to initialise the iterator object and the method used for iteration. Use these methods to print the first five elements of the given list [2, 4, 6, 8, 10, 12, 14, 16, 18, 20]."
   ]
  },
  {
   "cell_type": "code",
   "execution_count": 114,
   "id": "d74e5020-4dbd-4dac-bfae-0c41e2b30357",
   "metadata": {},
   "outputs": [],
   "source": [
    " list= [2, 4, 6, 8, 10, 12, 14, 16, 18, 20]"
   ]
  },
  {
   "cell_type": "code",
   "execution_count": 115,
   "id": "6b394d18-2d54-47f1-ad6e-891a7c2e66d8",
   "metadata": {},
   "outputs": [],
   "source": [
    "def test (a):\n",
    "    for i in a :\n",
    "      if list.index(i) < 5 :\n",
    "        print(i)\n",
    "  "
   ]
  },
  {
   "cell_type": "code",
   "execution_count": 116,
   "id": "bfad81a3-f1eb-42e1-9699-4beb16f56823",
   "metadata": {},
   "outputs": [
    {
     "name": "stdout",
     "output_type": "stream",
     "text": [
      "2\n",
      "4\n",
      "6\n",
      "8\n",
      "10\n"
     ]
    }
   ],
   "source": [
    "test(list)"
   ]
  },
  {
   "cell_type": "code",
   "execution_count": null,
   "id": "dc46782d-16b1-421a-a279-bb5a9031067e",
   "metadata": {},
   "outputs": [],
   "source": []
  },
  {
   "cell_type": "code",
   "execution_count": null,
   "id": "7efe9a25-0e9d-4c98-a981-2b8861c40529",
   "metadata": {},
   "outputs": [],
   "source": []
  },
  {
   "cell_type": "markdown",
   "id": "00d6ce5a-6c32-4230-85a3-7e97fa39b36b",
   "metadata": {},
   "source": [
    "4. What is a generator function in python? Why yield keyword is used? Give an example of a generator function."
   ]
  },
  {
   "cell_type": "code",
   "execution_count": 121,
   "id": "da685042-f54e-4460-908f-b13058c0cabc",
   "metadata": {},
   "outputs": [
    {
     "name": "stdout",
     "output_type": "stream",
     "text": [
      "0\n",
      "2\n",
      "4\n",
      "6\n",
      "8\n"
     ]
    }
   ],
   "source": [
    "def even_numbers(n):\n",
    "    i = 0\n",
    "    while i < n:\n",
    "        yield i\n",
    "        i += 2\n",
    "\n",
    "# Using the generator function\n",
    "for num in even_numbers(10):\n",
    "    print(num)  # Output: 0 2 4 6 8\n",
    "\n",
    "\n",
    "\n",
    "\n",
    "\n"
   ]
  },
  {
   "cell_type": "code",
   "execution_count": null,
   "id": "be0f3326-2392-4a84-a80f-2cd6ef416eb2",
   "metadata": {},
   "outputs": [],
   "source": []
  },
  {
   "cell_type": "markdown",
   "id": "5ef0f32f-b118-4551-9840-de33f405696e",
   "metadata": {},
   "source": [
    "Q5. Create a generator function for prime numbers less than 1000.  method to print the\n",
    "first 20 prime numbers."
   ]
  },
  {
   "cell_type": "code",
   "execution_count": null,
   "id": "009f0ee5-a1e3-46c4-bbba-c4032621a3f6",
   "metadata": {},
   "outputs": [],
   "source": [
    "def prime_number(n,m):\n",
    "    l=[]\n",
    "    for i in range(n):\n",
    "     if i <m:\n",
    "        l.append(2*i+1)\n",
    "\n",
    "    \n",
    "    return l\n",
    "    "
   ]
  },
  {
   "cell_type": "code",
   "execution_count": 117,
   "id": "319d2a84-8172-46b5-89ef-977d2ceddac7",
   "metadata": {},
   "outputs": [],
   "source": [
    "l1=prime_number(1000,20)\n"
   ]
  },
  {
   "cell_type": "code",
   "execution_count": 118,
   "id": "e9a6d63b-7906-4694-be24-f4325e27aba9",
   "metadata": {},
   "outputs": [
    {
     "data": {
      "text/plain": [
       "20"
      ]
     },
     "execution_count": 118,
     "metadata": {},
     "output_type": "execute_result"
    }
   ],
   "source": [
    "len(l1)"
   ]
  },
  {
   "cell_type": "code",
   "execution_count": null,
   "id": "860ca5f1-bcbd-45a6-82a1-3be09aafcf46",
   "metadata": {},
   "outputs": [],
   "source": []
  }
 ],
 "metadata": {
  "kernelspec": {
   "display_name": "Python 3 (ipykernel)",
   "language": "python",
   "name": "python3"
  },
  "language_info": {
   "codemirror_mode": {
    "name": "ipython",
    "version": 3
   },
   "file_extension": ".py",
   "mimetype": "text/x-python",
   "name": "python",
   "nbconvert_exporter": "python",
   "pygments_lexer": "ipython3",
   "version": "3.10.8"
  }
 },
 "nbformat": 4,
 "nbformat_minor": 5
}
