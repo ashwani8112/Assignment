{
 "cells": [
  {
   "cell_type": "markdown",
   "id": "3f1b6a76-98bd-42c1-91bb-a93ab3171190",
   "metadata": {},
   "source": [
    "#Q1. What are the characteristics of the tuples? Is tuple immutable?"
   ]
  },
  {
   "cell_type": "code",
   "execution_count": 3,
   "id": "20597f56-d7de-4fae-91de-68e921e94893",
   "metadata": {},
   "outputs": [
    {
     "data": {
      "text/plain": [
       "4"
      ]
     },
     "execution_count": 3,
     "metadata": {},
     "output_type": "execute_result"
    }
   ],
   "source": [
    "#tuples is some basics charterstics\n",
    "#they are indexed\n",
    "t=(1,3,4,5,)\n",
    "t[2]\n"
   ]
  },
  {
   "cell_type": "code",
   "execution_count": 4,
   "id": "e606c6bb-fe53-4b64-8493-e6e88ee2a22f",
   "metadata": {},
   "outputs": [
    {
     "data": {
      "text/plain": [
       "(1, 3, 4, 'ashwani', True)"
      ]
     },
     "execution_count": 4,
     "metadata": {},
     "output_type": "execute_result"
    }
   ],
   "source": [
    "#tuple are ordred\n",
    "t1=(1,3,4,'ashwani',True)\n",
    "t1\n"
   ]
  },
  {
   "cell_type": "code",
   "execution_count": 5,
   "id": "4a2d9557-bac1-4a05-8120-859874e5c3ee",
   "metadata": {},
   "outputs": [
    {
     "ename": "TypeError",
     "evalue": "'tuple' object does not support item assignment",
     "output_type": "error",
     "traceback": [
      "\u001b[0;31m---------------------------------------------------------------------------\u001b[0m",
      "\u001b[0;31mTypeError\u001b[0m                                 Traceback (most recent call last)",
      "Cell \u001b[0;32mIn[5], line 2\u001b[0m\n\u001b[1;32m      1\u001b[0m \u001b[38;5;66;03m#imutual\u001b[39;00m\n\u001b[0;32m----> 2\u001b[0m \u001b[43mt1\u001b[49m\u001b[43m[\u001b[49m\u001b[38;5;241;43m1\u001b[39;49m\u001b[43m]\u001b[49m\u001b[38;5;241m=\u001b[39m\u001b[38;5;124m'\u001b[39m\u001b[38;5;124m12\u001b[39m\u001b[38;5;124m'\u001b[39m\n",
      "\u001b[0;31mTypeError\u001b[0m: 'tuple' object does not support item assignment"
     ]
    }
   ],
   "source": [
    "#immutual can't assin any value\n",
    "t1[1]='12'"
   ]
  },
  {
   "cell_type": "code",
   "execution_count": 6,
   "id": "da1bf3bc-6a2f-4396-adff-e4a2160f0943",
   "metadata": {},
   "outputs": [],
   "source": [
    "#they can contain duplicted items\n",
    "t2=(1,2,3,3,3,4)\n"
   ]
  },
  {
   "cell_type": "code",
   "execution_count": 7,
   "id": "5993bea5-85fd-4723-a460-6cb8bede2505",
   "metadata": {},
   "outputs": [
    {
     "data": {
      "text/plain": [
       "(1, 2, 3, 3, 3, 4)"
      ]
     },
     "execution_count": 7,
     "metadata": {},
     "output_type": "execute_result"
    }
   ],
   "source": [
    "t2\n"
   ]
  },
  {
   "cell_type": "markdown",
   "id": "9efdbd9f-e562-43b4-9f05-1f3f11c13a64",
   "metadata": {},
   "source": [
    "#Q2. What are the two tuple methods in python? Give an example of each method. Give a reason why\n",
    "#tuples have only two in-built methods as compared to Lists."
   ]
  },
  {
   "cell_type": "code",
   "execution_count": 8,
   "id": "ebc9d0ab-2b2c-4b9c-9368-8e5633aed2d5",
   "metadata": {},
   "outputs": [],
   "source": [
    "t3=(1,2,3,4,5,5,'ashwani','yadav',True)"
   ]
  },
  {
   "cell_type": "code",
   "execution_count": 10,
   "id": "ccc77c14-9878-47b9-bfdf-dd9cdfa1de78",
   "metadata": {},
   "outputs": [
    {
     "data": {
      "text/plain": [
       "2"
      ]
     },
     "execution_count": 10,
     "metadata": {},
     "output_type": "execute_result"
    }
   ],
   "source": [
    "#fist method count total number avilable element inside of tuples\n",
    "t3.count(5)"
   ]
  },
  {
   "cell_type": "code",
   "execution_count": 13,
   "id": "89426e89-11ed-45c1-b10f-935f5a58e972",
   "metadata": {},
   "outputs": [
    {
     "data": {
      "text/plain": [
       "6"
      ]
     },
     "execution_count": 13,
     "metadata": {},
     "output_type": "execute_result"
    }
   ],
   "source": [
    "#find position of element iside of tuples\n",
    "t3.index('ashwani')"
   ]
  },
  {
   "cell_type": "markdown",
   "id": "55c436e9-2de8-4b2d-bb11-9ef65335ccf7",
   "metadata": {},
   "source": [
    "#Which collection datatypes in python do not allow duplicate items? Write a code using a set to remove\n",
    "#duplicates from the given list.\n"
   ]
  },
  {
   "cell_type": "code",
   "execution_count": 31,
   "id": "cacb6fb5-34ed-48b5-a3d8-78129f053e6c",
   "metadata": {},
   "outputs": [
    {
     "data": {
      "text/plain": [
       "{1, 2, 3, 4}"
      ]
     },
     "execution_count": 31,
     "metadata": {},
     "output_type": "execute_result"
    }
   ],
   "source": [
    "# set data types not allow to duplicate inside data base\n",
    "#exmple \n",
    "List = [1, 1, 1, 2, 1, 3, 1, 4, 2, 1, 2, 2, 2, 3, 2, 4, 3, 1, 3, 2, 3, 3, 3, 4, 4, 1, 4, 2, 4, 3, 4, 4]\n",
    "s1=set(List)\n",
    "s1"
   ]
  },
  {
   "cell_type": "markdown",
   "id": "8eba7ba7-22e6-4755-bc63-e1b5ac6ec6fd",
   "metadata": {},
   "source": [
    "#Q4. Explain the difference between the union() and update() methods for a set. Give an example of\n",
    "#each method."
   ]
  },
  {
   "cell_type": "code",
   "execution_count": 45,
   "id": "a4371be9-fcff-4174-8849-447e3487131e",
   "metadata": {},
   "outputs": [],
   "source": [
    "s2={1,2,3,4,4,5,6,7,'ashwani','Ashwani'}\n",
    "s3={8,10,11,12}"
   ]
  },
  {
   "cell_type": "code",
   "execution_count": 48,
   "id": "4c7ec648-5fdc-4288-b205-8f5ec0fe87d1",
   "metadata": {},
   "outputs": [
    {
     "data": {
      "text/plain": [
       "{1, 10, 11, 12, 2, 3, 4, 5, 6, 7, 8, 'Ashwani', 'ashwani'}"
      ]
     },
     "execution_count": 48,
     "metadata": {},
     "output_type": "execute_result"
    }
   ],
   "source": [
    "union_set=s2.union(s3)\n",
    "union_set\n"
   ]
  },
  {
   "cell_type": "code",
   "execution_count": 49,
   "id": "f9ef48f7-0e4f-4e7e-8260-7fd96c22fb4b",
   "metadata": {},
   "outputs": [
    {
     "data": {
      "text/plain": [
       "{1, 2, 3, 4, 5, 6, 7, 'Ashwani', 'ashwani'}"
      ]
     },
     "execution_count": 49,
     "metadata": {},
     "output_type": "execute_result"
    }
   ],
   "source": [
    "#not set 2 update \n",
    "s2"
   ]
  },
  {
   "cell_type": "code",
   "execution_count": 52,
   "id": "b5a3265d-65db-4b03-9542-b8fc469a65ca",
   "metadata": {},
   "outputs": [],
   "source": [
    "update_set=s2.update(s3)"
   ]
  },
  {
   "cell_type": "code",
   "execution_count": 55,
   "id": "0b0783e9-8819-4eb9-9d50-8d9c49d88548",
   "metadata": {},
   "outputs": [
    {
     "data": {
      "text/plain": [
       "{1, 10, 11, 12, 2, 3, 4, 5, 6, 7, 8, 'Ashwani', 'ashwani'}"
      ]
     },
     "execution_count": 55,
     "metadata": {},
     "output_type": "execute_result"
    }
   ],
   "source": [
    "s2"
   ]
  },
  {
   "cell_type": "markdown",
   "id": "a699733d-94ce-4bd6-aeb3-ed6b1813257d",
   "metadata": {},
   "source": [
    "#Q5. What is a dictionary? Give an example. Also, state whether a dictionary is ordered or unordered."
   ]
  },
  {
   "cell_type": "code",
   "execution_count": 57,
   "id": "e7e3fbba-1bf5-4220-849e-4bf74f72c7bf",
   "metadata": {},
   "outputs": [],
   "source": [
    "# in dictionary store data with assin key name , you can store vaulue but key must be unique\n",
    "d={'name':'ashwani', 'age':'22','collage':'HBTU KANPUR','course':'B.tech' }"
   ]
  },
  {
   "cell_type": "code",
   "execution_count": 58,
   "id": "16e748e2-a1ce-44f8-8d70-cab7e444690a",
   "metadata": {},
   "outputs": [
    {
     "data": {
      "text/plain": [
       "{'name': 'ashwani', 'age': '22', 'collage': 'HBTU KANPUR', 'course': 'B.tech'}"
      ]
     },
     "execution_count": 58,
     "metadata": {},
     "output_type": "execute_result"
    }
   ],
   "source": [
    "d"
   ]
  },
  {
   "cell_type": "code",
   "execution_count": 59,
   "id": "540e22f4-3187-424a-98c0-cd2ae6cc5be9",
   "metadata": {},
   "outputs": [
    {
     "data": {
      "text/plain": [
       "'ashwani'"
      ]
     },
     "execution_count": 59,
     "metadata": {},
     "output_type": "execute_result"
    }
   ],
   "source": [
    "d['name']"
   ]
  },
  {
   "cell_type": "code",
   "execution_count": null,
   "id": "3e83533a-f606-4d34-914b-e9387135b710",
   "metadata": {},
   "outputs": [],
   "source": [
    "d['age']='23'"
   ]
  },
  {
   "cell_type": "code",
   "execution_count": 61,
   "id": "40a744ca-4771-4a16-bb3b-ae807b986d10",
   "metadata": {},
   "outputs": [
    {
     "data": {
      "text/plain": [
       "{'name': 'ashwani', 'age': '23', 'collage': 'HBTU KANPUR', 'course': 'B.tech'}"
      ]
     },
     "execution_count": 61,
     "metadata": {},
     "output_type": "execute_result"
    }
   ],
   "source": [
    "d"
   ]
  },
  {
   "cell_type": "code",
   "execution_count": 62,
   "id": "6531f372-45a5-4542-8b99-231108767f79",
   "metadata": {},
   "outputs": [],
   "source": [
    "#inside of dictionary not any value store can't according to oder store value according to key"
   ]
  },
  {
   "cell_type": "markdown",
   "id": "55106025-8aeb-424e-b81d-420de590325a",
   "metadata": {},
   "source": [
    "#Can we create a nested dictionary? If so, please give an example by creating a simple one-level\n",
    "#nested dictionary."
   ]
  },
  {
   "cell_type": "code",
   "execution_count": 68,
   "id": "6d97fdac-30ff-4d85-a170-965cb7e45ca9",
   "metadata": {},
   "outputs": [],
   "source": [
    "d1={'person1':{'name':'shalbh','age':'25','status':'single'},\n",
    "   'person2':{'name':'akshat','age':'24','status':'single'}}"
   ]
  },
  {
   "cell_type": "code",
   "execution_count": 69,
   "id": "bd1ec2cf-5435-4f31-80ba-9f13479ee501",
   "metadata": {},
   "outputs": [
    {
     "data": {
      "text/plain": [
       "{'person1': {'name': 'shalbh', 'age': '25', 'status': 'single'},\n",
       " 'person2': {'name': 'akshat', 'age': '24', 'status': 'single'}}"
      ]
     },
     "execution_count": 69,
     "metadata": {},
     "output_type": "execute_result"
    }
   ],
   "source": [
    "d1"
   ]
  },
  {
   "cell_type": "markdown",
   "id": "0b8c6fb2-e38f-47d1-96b2-dfa7694df8a4",
   "metadata": {},
   "source": [
    "#Q7. Using setdefault() method, create key named topics in the given dictionary and also add the value of\n",
    "#the key as this list ['Python', 'Machine Learning’, 'Deep Learning']"
   ]
  },
  {
   "cell_type": "markdown",
   "id": "af396f3e-5165-4fff-a25e-7d8683402df8",
   "metadata": {},
   "source": [
    "#dict1 = {'language' : 'Python', 'course': 'Data Science Masters'}"
   ]
  },
  {
   "cell_type": "code",
   "execution_count": 73,
   "id": "e50f747e-e5fa-438e-968a-e82ceace8fe5",
   "metadata": {},
   "outputs": [],
   "source": [
    "list=['Python', 'Machine Learning ' ,'Deep Learning']\n"
   ]
  },
  {
   "cell_type": "code",
   "execution_count": null,
   "id": "41ac2753-3e92-46d2-929e-7048ace9c471",
   "metadata": {},
   "outputs": [],
   "source": []
  },
  {
   "cell_type": "code",
   "execution_count": 74,
   "id": "9d98bd1d-c292-4875-9905-409b72274551",
   "metadata": {},
   "outputs": [],
   "source": [
    "dict1 = {'language' : 'Python', 'course': 'Data Science Masters'}\n",
    "dicts=dict1.setdefault('topics',list)"
   ]
  },
  {
   "cell_type": "code",
   "execution_count": 75,
   "id": "d9e50fef-f653-4550-907b-e4b7be342d98",
   "metadata": {},
   "outputs": [
    {
     "data": {
      "text/plain": [
       "{'language': 'Python',\n",
       " 'course': 'Data Science Masters',\n",
       " 'topics': ['Python', 'Machine Learning ', 'Deep Learning']}"
      ]
     },
     "execution_count": 75,
     "metadata": {},
     "output_type": "execute_result"
    }
   ],
   "source": [
    "dict1"
   ]
  },
  {
   "cell_type": "code",
   "execution_count": 76,
   "id": "f26c7455-86d3-42c6-ad1c-05205c8d1f6a",
   "metadata": {},
   "outputs": [
    {
     "data": {
      "text/plain": [
       "['Python', 'Machine Learning ', 'Deep Learning']"
      ]
     },
     "execution_count": 76,
     "metadata": {},
     "output_type": "execute_result"
    }
   ],
   "source": [
    "dicts"
   ]
  },
  {
   "cell_type": "markdown",
   "id": "b6770bc3-dbc2-4cc3-9970-75f1b2cc8cfe",
   "metadata": {},
   "source": [
    "#Q8. What are the three view objects in dictionaries? Use the three in-built methods in python to display\n",
    "#these three view objects for the given dictionary.\n",
    "dict1 = {'Sport': 'Cricket' , 'Teams': ['India', 'Australia', 'England', 'South Africa', 'Sri Lanka', 'New Zealand']}"
   ]
  },
  {
   "cell_type": "code",
   "execution_count": 77,
   "id": "32e8a64a-7e82-4eeb-b5a3-f3f93bc5da6b",
   "metadata": {},
   "outputs": [],
   "source": [
    "\n",
    "dict1 = {'Sport': 'Cricket' , 'Teams': ['India', 'Australia', 'England', 'South Africa', 'Sri Lanka', 'New Zealand']}"
   ]
  },
  {
   "cell_type": "code",
   "execution_count": 78,
   "id": "fc474e23-0c3e-4072-ba3c-79d228ead750",
   "metadata": {},
   "outputs": [
    {
     "data": {
      "text/plain": [
       "{'Sport': 'Cricket',\n",
       " 'Teams': ['India',\n",
       "  'Australia',\n",
       "  'England',\n",
       "  'South Africa',\n",
       "  'Sri Lanka',\n",
       "  'New Zealand']}"
      ]
     },
     "execution_count": 78,
     "metadata": {},
     "output_type": "execute_result"
    }
   ],
   "source": [
    "dict1\n"
   ]
  },
  {
   "cell_type": "code",
   "execution_count": 89,
   "id": "484952ca-670d-49e5-b835-a5afd2506166",
   "metadata": {},
   "outputs": [
    {
     "data": {
      "text/plain": [
       "dict_keys(['Sport', 'Teams'])"
      ]
     },
     "execution_count": 89,
     "metadata": {},
     "output_type": "execute_result"
    }
   ],
   "source": [
    "dict1.keys()"
   ]
  },
  {
   "cell_type": "code",
   "execution_count": 90,
   "id": "19f6c865-93ed-4647-b118-36e82ea3e12f",
   "metadata": {},
   "outputs": [
    {
     "data": {
      "text/plain": [
       "dict_values(['Cricket', ['India', 'Australia', 'England', 'South Africa', 'Sri Lanka', 'New Zealand']])"
      ]
     },
     "execution_count": 90,
     "metadata": {},
     "output_type": "execute_result"
    }
   ],
   "source": [
    "dict1.values()"
   ]
  },
  {
   "cell_type": "code",
   "execution_count": 91,
   "id": "89e31788-6fe0-4124-ab6a-edbde94da260",
   "metadata": {},
   "outputs": [
    {
     "data": {
      "text/plain": [
       "dict_items([('Sport', 'Cricket'), ('Teams', ['India', 'Australia', 'England', 'South Africa', 'Sri Lanka', 'New Zealand'])])"
      ]
     },
     "execution_count": 91,
     "metadata": {},
     "output_type": "execute_result"
    }
   ],
   "source": [
    "dict1.items()"
   ]
  },
  {
   "cell_type": "code",
   "execution_count": null,
   "id": "3c0bc74d-e182-437a-8dfe-f2b706c821cb",
   "metadata": {},
   "outputs": [],
   "source": []
  }
 ],
 "metadata": {
  "kernelspec": {
   "display_name": "Python 3 (ipykernel)",
   "language": "python",
   "name": "python3"
  },
  "language_info": {
   "codemirror_mode": {
    "name": "ipython",
    "version": 3
   },
   "file_extension": ".py",
   "mimetype": "text/x-python",
   "name": "python",
   "nbconvert_exporter": "python",
   "pygments_lexer": "ipython3",
   "version": "3.10.8"
  }
 },
 "nbformat": 4,
 "nbformat_minor": 5
}
